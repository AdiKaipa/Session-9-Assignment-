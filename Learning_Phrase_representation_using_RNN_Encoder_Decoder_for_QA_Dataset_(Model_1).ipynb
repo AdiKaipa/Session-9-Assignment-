{
  "nbformat": 4,
  "nbformat_minor": 0,
  "metadata": {
    "colab": {
      "name": "Learning Phrase representation using RNN Encoder-Decoder for QA Dataset (Model 1).ipynb",
      "provenance": [],
      "authorship_tag": "ABX9TyMcuVbTE6DGqzGVnl4OMbwk",
      "include_colab_link": true
    },
    "kernelspec": {
      "display_name": "Python 3",
      "name": "python3"
    },
    "accelerator": "GPU"
  },
  "cells": [
    {
      "cell_type": "markdown",
      "metadata": {
        "id": "view-in-github",
        "colab_type": "text"
      },
      "source": [
        "<a href=\"https://colab.research.google.com/github/AdiKaipa/Session-9-Assignment-/blob/main/Learning_Phrase_representation_using_RNN_Encoder_Decoder_for_QA_Dataset_(Model_1).ipynb\" target=\"_parent\"><img src=\"https://colab.research.google.com/assets/colab-badge.svg\" alt=\"Open In Colab\"/></a>"
      ]
    },
    {
      "cell_type": "markdown",
      "metadata": {
        "id": "Z7uykoReKSQe"
      },
      "source": [
        "#Question-and-answer dataset: This corpus includes Wikipedia articles, factual questions manually generated from them, and answers to these manually generated questions for use in academic research"
      ]
    },
    {
      "cell_type": "code",
      "metadata": {
        "colab": {
          "base_uri": "https://localhost:8080/"
        },
        "id": "9GFXXoo5zKfc",
        "outputId": "d795efba-0bf0-4513-c27b-fb328f73eb52"
      },
      "source": [
        "from google.colab import drive\r\n",
        "drive.mount('/content/drive/')\r\n"
      ],
      "execution_count": 1,
      "outputs": [
        {
          "output_type": "stream",
          "text": [
            "Mounted at /content/drive/\n"
          ],
          "name": "stdout"
        }
      ]
    },
    {
      "cell_type": "code",
      "metadata": {
        "id": "kVMlp2Kd0BVZ"
      },
      "source": [
        "path1 = '/content/drive/MyDrive/END/END 8/question_answer_pairs (1).txt'\r\n",
        "path2 = '/content/drive/MyDrive/END/END 8/question_answer_pairs (2).txt'\r\n",
        "path = '/content/drive/MyDrive/END/END 8/question_answer_pairs.txt'"
      ],
      "execution_count": 2,
      "outputs": []
    },
    {
      "cell_type": "code",
      "metadata": {
        "id": "MqA6vjLB0L9X"
      },
      "source": [
        "import pandas as pd\r\n",
        "df1 = pd.read_csv(path1, sep = '\\t', encoding= 'ISO-8859-1')\r\n",
        "df2 = pd.read_csv(path2, sep = '\\t', encoding= 'ISO-8859-1')\r\n",
        "df = pd.read_csv(path, sep = '\\t', encoding= 'ISO-8859-1')"
      ],
      "execution_count": 3,
      "outputs": []
    },
    {
      "cell_type": "code",
      "metadata": {
        "colab": {
          "base_uri": "https://localhost:8080/"
        },
        "id": "sgFadiJf1pJQ",
        "outputId": "6a77d631-67a4-4418-a273-7df6fec119d6"
      },
      "source": [
        "df.shape, df1.shape, df2.shape"
      ],
      "execution_count": 4,
      "outputs": [
        {
          "output_type": "execute_result",
          "data": {
            "text/plain": [
              "((1715, 6), (825, 6), (1458, 6))"
            ]
          },
          "metadata": {
            "tags": []
          },
          "execution_count": 4
        }
      ]
    },
    {
      "cell_type": "code",
      "metadata": {
        "id": "4hKwrukQ0l2A"
      },
      "source": [
        "data1 = df.append([df1, df2])"
      ],
      "execution_count": 5,
      "outputs": []
    },
    {
      "cell_type": "code",
      "metadata": {
        "colab": {
          "base_uri": "https://localhost:8080/"
        },
        "id": "alGi04Rz2xVb",
        "outputId": "a316c491-1d24-4148-913c-850aa903d31f"
      },
      "source": [
        "data1.shape"
      ],
      "execution_count": 6,
      "outputs": [
        {
          "output_type": "execute_result",
          "data": {
            "text/plain": [
              "(3998, 6)"
            ]
          },
          "metadata": {
            "tags": []
          },
          "execution_count": 6
        }
      ]
    },
    {
      "cell_type": "code",
      "metadata": {
        "colab": {
          "base_uri": "https://localhost:8080/",
          "height": 947
        },
        "id": "egxnI9tA9n76",
        "outputId": "fac2691b-7b92-4615-e414-c30ba3e33c6a"
      },
      "source": [
        "data1.head(30)"
      ],
      "execution_count": 7,
      "outputs": [
        {
          "output_type": "execute_result",
          "data": {
            "text/html": [
              "<div>\n",
              "<style scoped>\n",
              "    .dataframe tbody tr th:only-of-type {\n",
              "        vertical-align: middle;\n",
              "    }\n",
              "\n",
              "    .dataframe tbody tr th {\n",
              "        vertical-align: top;\n",
              "    }\n",
              "\n",
              "    .dataframe thead th {\n",
              "        text-align: right;\n",
              "    }\n",
              "</style>\n",
              "<table border=\"1\" class=\"dataframe\">\n",
              "  <thead>\n",
              "    <tr style=\"text-align: right;\">\n",
              "      <th></th>\n",
              "      <th>ArticleTitle</th>\n",
              "      <th>Question</th>\n",
              "      <th>Answer</th>\n",
              "      <th>DifficultyFromQuestioner</th>\n",
              "      <th>DifficultyFromAnswerer</th>\n",
              "      <th>ArticleFile</th>\n",
              "    </tr>\n",
              "  </thead>\n",
              "  <tbody>\n",
              "    <tr>\n",
              "      <th>0</th>\n",
              "      <td>Abraham_Lincoln</td>\n",
              "      <td>Was Abraham Lincoln the sixteenth President of...</td>\n",
              "      <td>yes</td>\n",
              "      <td>easy</td>\n",
              "      <td>easy</td>\n",
              "      <td>data/set3/a4</td>\n",
              "    </tr>\n",
              "    <tr>\n",
              "      <th>1</th>\n",
              "      <td>Abraham_Lincoln</td>\n",
              "      <td>Was Abraham Lincoln the sixteenth President of...</td>\n",
              "      <td>Yes.</td>\n",
              "      <td>easy</td>\n",
              "      <td>easy</td>\n",
              "      <td>data/set3/a4</td>\n",
              "    </tr>\n",
              "    <tr>\n",
              "      <th>2</th>\n",
              "      <td>Abraham_Lincoln</td>\n",
              "      <td>Did Lincoln sign the National Banking Act of 1...</td>\n",
              "      <td>yes</td>\n",
              "      <td>easy</td>\n",
              "      <td>medium</td>\n",
              "      <td>data/set3/a4</td>\n",
              "    </tr>\n",
              "    <tr>\n",
              "      <th>3</th>\n",
              "      <td>Abraham_Lincoln</td>\n",
              "      <td>Did Lincoln sign the National Banking Act of 1...</td>\n",
              "      <td>Yes.</td>\n",
              "      <td>easy</td>\n",
              "      <td>easy</td>\n",
              "      <td>data/set3/a4</td>\n",
              "    </tr>\n",
              "    <tr>\n",
              "      <th>4</th>\n",
              "      <td>Abraham_Lincoln</td>\n",
              "      <td>Did his mother die of pneumonia?</td>\n",
              "      <td>no</td>\n",
              "      <td>easy</td>\n",
              "      <td>medium</td>\n",
              "      <td>data/set3/a4</td>\n",
              "    </tr>\n",
              "    <tr>\n",
              "      <th>5</th>\n",
              "      <td>Abraham_Lincoln</td>\n",
              "      <td>Did his mother die of pneumonia?</td>\n",
              "      <td>No.</td>\n",
              "      <td>easy</td>\n",
              "      <td>easy</td>\n",
              "      <td>data/set3/a4</td>\n",
              "    </tr>\n",
              "    <tr>\n",
              "      <th>6</th>\n",
              "      <td>Abraham_Lincoln</td>\n",
              "      <td>How many long was Lincoln's formal education?</td>\n",
              "      <td>18 months</td>\n",
              "      <td>medium</td>\n",
              "      <td>easy</td>\n",
              "      <td>data/set3/a4</td>\n",
              "    </tr>\n",
              "    <tr>\n",
              "      <th>7</th>\n",
              "      <td>Abraham_Lincoln</td>\n",
              "      <td>How many long was Lincoln's formal education?</td>\n",
              "      <td>18 months.</td>\n",
              "      <td>medium</td>\n",
              "      <td>medium</td>\n",
              "      <td>data/set3/a4</td>\n",
              "    </tr>\n",
              "    <tr>\n",
              "      <th>8</th>\n",
              "      <td>Abraham_Lincoln</td>\n",
              "      <td>When did Lincoln begin his political career?</td>\n",
              "      <td>1832</td>\n",
              "      <td>medium</td>\n",
              "      <td>easy</td>\n",
              "      <td>data/set3/a4</td>\n",
              "    </tr>\n",
              "    <tr>\n",
              "      <th>9</th>\n",
              "      <td>Abraham_Lincoln</td>\n",
              "      <td>When did Lincoln begin his political career?</td>\n",
              "      <td>1832.</td>\n",
              "      <td>medium</td>\n",
              "      <td>medium</td>\n",
              "      <td>data/set3/a4</td>\n",
              "    </tr>\n",
              "    <tr>\n",
              "      <th>10</th>\n",
              "      <td>Abraham_Lincoln</td>\n",
              "      <td>What did The Legal Tender Act of 1862 establish?</td>\n",
              "      <td>the United States Note, the first paper curren...</td>\n",
              "      <td>medium</td>\n",
              "      <td>easy</td>\n",
              "      <td>data/set3/a4</td>\n",
              "    </tr>\n",
              "    <tr>\n",
              "      <th>11</th>\n",
              "      <td>Abraham_Lincoln</td>\n",
              "      <td>What did The Legal Tender Act of 1862 establish?</td>\n",
              "      <td>The United States Note, the first paper curren...</td>\n",
              "      <td>medium</td>\n",
              "      <td>medium</td>\n",
              "      <td>data/set3/a4</td>\n",
              "    </tr>\n",
              "    <tr>\n",
              "      <th>12</th>\n",
              "      <td>Abraham_Lincoln</td>\n",
              "      <td>Who suggested Lincoln grow a beard?</td>\n",
              "      <td>11-year-old Grace Bedell</td>\n",
              "      <td>hard</td>\n",
              "      <td>medium</td>\n",
              "      <td>data/set3/a4</td>\n",
              "    </tr>\n",
              "    <tr>\n",
              "      <th>13</th>\n",
              "      <td>Abraham_Lincoln</td>\n",
              "      <td>Who suggested Lincoln grow a beard?</td>\n",
              "      <td>Grace Bedell.</td>\n",
              "      <td>hard</td>\n",
              "      <td>medium</td>\n",
              "      <td>data/set3/a4</td>\n",
              "    </tr>\n",
              "    <tr>\n",
              "      <th>14</th>\n",
              "      <td>Abraham_Lincoln</td>\n",
              "      <td>When did the Gettysburg address argue that Ame...</td>\n",
              "      <td>1776</td>\n",
              "      <td>hard</td>\n",
              "      <td>hard</td>\n",
              "      <td>data/set3/a4</td>\n",
              "    </tr>\n",
              "    <tr>\n",
              "      <th>15</th>\n",
              "      <td>Abraham_Lincoln</td>\n",
              "      <td>When did the Gettysburg address argue that Ame...</td>\n",
              "      <td>1776.</td>\n",
              "      <td>hard</td>\n",
              "      <td>hard</td>\n",
              "      <td>data/set3/a4</td>\n",
              "    </tr>\n",
              "    <tr>\n",
              "      <th>16</th>\n",
              "      <td>Abraham_Lincoln</td>\n",
              "      <td>Did Lincoln beat John C. Breckinridge in the 1...</td>\n",
              "      <td>yes</td>\n",
              "      <td>hard</td>\n",
              "      <td>medium</td>\n",
              "      <td>data/set3/a4</td>\n",
              "    </tr>\n",
              "    <tr>\n",
              "      <th>17</th>\n",
              "      <td>Abraham_Lincoln</td>\n",
              "      <td>Did Lincoln beat John C. Breckinridge in the 1...</td>\n",
              "      <td>Yes.</td>\n",
              "      <td>hard</td>\n",
              "      <td>hard</td>\n",
              "      <td>data/set3/a4</td>\n",
              "    </tr>\n",
              "    <tr>\n",
              "      <th>18</th>\n",
              "      <td>Abraham_Lincoln</td>\n",
              "      <td>Was Abraham Lincoln the first President of the...</td>\n",
              "      <td>No</td>\n",
              "      <td>easy</td>\n",
              "      <td>easy</td>\n",
              "      <td>data/set3/a4</td>\n",
              "    </tr>\n",
              "    <tr>\n",
              "      <th>19</th>\n",
              "      <td>Abraham_Lincoln</td>\n",
              "      <td>Was Abraham Lincoln the first President of the...</td>\n",
              "      <td>No</td>\n",
              "      <td>easy</td>\n",
              "      <td>medium</td>\n",
              "      <td>data/set3/a4</td>\n",
              "    </tr>\n",
              "    <tr>\n",
              "      <th>20</th>\n",
              "      <td>Abraham_Lincoln</td>\n",
              "      <td>Did Lincoln start his political career in 1832?</td>\n",
              "      <td>Yes</td>\n",
              "      <td>easy</td>\n",
              "      <td>easy</td>\n",
              "      <td>data/set3/a4</td>\n",
              "    </tr>\n",
              "    <tr>\n",
              "      <th>21</th>\n",
              "      <td>Abraham_Lincoln</td>\n",
              "      <td>Did Lincoln start his political career in 1832?</td>\n",
              "      <td>Yes</td>\n",
              "      <td>easy</td>\n",
              "      <td>easy</td>\n",
              "      <td>data/set3/a4</td>\n",
              "    </tr>\n",
              "    <tr>\n",
              "      <th>22</th>\n",
              "      <td>Abraham_Lincoln</td>\n",
              "      <td>Did Lincoln ever represent Alton &amp; Sangamon Ra...</td>\n",
              "      <td>Yes</td>\n",
              "      <td>easy</td>\n",
              "      <td>easy</td>\n",
              "      <td>data/set3/a4</td>\n",
              "    </tr>\n",
              "    <tr>\n",
              "      <th>23</th>\n",
              "      <td>Abraham_Lincoln</td>\n",
              "      <td>Did Lincoln ever represent Alton &amp; Sangamon Ra...</td>\n",
              "      <td>Yes</td>\n",
              "      <td>easy</td>\n",
              "      <td>easy</td>\n",
              "      <td>data/set3/a4</td>\n",
              "    </tr>\n",
              "    <tr>\n",
              "      <th>24</th>\n",
              "      <td>Abraham_Lincoln</td>\n",
              "      <td>Which county was Lincoln born in?</td>\n",
              "      <td>Hardin County</td>\n",
              "      <td>medium</td>\n",
              "      <td>medium</td>\n",
              "      <td>data/set3/a4</td>\n",
              "    </tr>\n",
              "    <tr>\n",
              "      <th>25</th>\n",
              "      <td>Abraham_Lincoln</td>\n",
              "      <td>Which county was Lincoln born in?</td>\n",
              "      <td>Southeast Hardin County, Kentucky</td>\n",
              "      <td>medium</td>\n",
              "      <td>medium</td>\n",
              "      <td>data/set3/a4</td>\n",
              "    </tr>\n",
              "    <tr>\n",
              "      <th>26</th>\n",
              "      <td>Abraham_Lincoln</td>\n",
              "      <td>When did Lincoln first serve as President?</td>\n",
              "      <td>March 4, 1861</td>\n",
              "      <td>medium</td>\n",
              "      <td>hard</td>\n",
              "      <td>data/set3/a4</td>\n",
              "    </tr>\n",
              "    <tr>\n",
              "      <th>27</th>\n",
              "      <td>Abraham_Lincoln</td>\n",
              "      <td>When did Lincoln first serve as President?</td>\n",
              "      <td>March 4, 1861</td>\n",
              "      <td>medium</td>\n",
              "      <td>medium</td>\n",
              "      <td>data/set3/a4</td>\n",
              "    </tr>\n",
              "    <tr>\n",
              "      <th>28</th>\n",
              "      <td>Abraham_Lincoln</td>\n",
              "      <td>Who assassinated Lincoln?</td>\n",
              "      <td>John Wilkes Booth</td>\n",
              "      <td>medium</td>\n",
              "      <td>hard</td>\n",
              "      <td>data/set3/a4</td>\n",
              "    </tr>\n",
              "    <tr>\n",
              "      <th>29</th>\n",
              "      <td>Abraham_Lincoln</td>\n",
              "      <td>Who assassinated Lincoln?</td>\n",
              "      <td>John Wilkes Booth</td>\n",
              "      <td>medium</td>\n",
              "      <td>hard</td>\n",
              "      <td>data/set3/a4</td>\n",
              "    </tr>\n",
              "  </tbody>\n",
              "</table>\n",
              "</div>"
            ],
            "text/plain": [
              "       ArticleTitle  ...   ArticleFile\n",
              "0   Abraham_Lincoln  ...  data/set3/a4\n",
              "1   Abraham_Lincoln  ...  data/set3/a4\n",
              "2   Abraham_Lincoln  ...  data/set3/a4\n",
              "3   Abraham_Lincoln  ...  data/set3/a4\n",
              "4   Abraham_Lincoln  ...  data/set3/a4\n",
              "5   Abraham_Lincoln  ...  data/set3/a4\n",
              "6   Abraham_Lincoln  ...  data/set3/a4\n",
              "7   Abraham_Lincoln  ...  data/set3/a4\n",
              "8   Abraham_Lincoln  ...  data/set3/a4\n",
              "9   Abraham_Lincoln  ...  data/set3/a4\n",
              "10  Abraham_Lincoln  ...  data/set3/a4\n",
              "11  Abraham_Lincoln  ...  data/set3/a4\n",
              "12  Abraham_Lincoln  ...  data/set3/a4\n",
              "13  Abraham_Lincoln  ...  data/set3/a4\n",
              "14  Abraham_Lincoln  ...  data/set3/a4\n",
              "15  Abraham_Lincoln  ...  data/set3/a4\n",
              "16  Abraham_Lincoln  ...  data/set3/a4\n",
              "17  Abraham_Lincoln  ...  data/set3/a4\n",
              "18  Abraham_Lincoln  ...  data/set3/a4\n",
              "19  Abraham_Lincoln  ...  data/set3/a4\n",
              "20  Abraham_Lincoln  ...  data/set3/a4\n",
              "21  Abraham_Lincoln  ...  data/set3/a4\n",
              "22  Abraham_Lincoln  ...  data/set3/a4\n",
              "23  Abraham_Lincoln  ...  data/set3/a4\n",
              "24  Abraham_Lincoln  ...  data/set3/a4\n",
              "25  Abraham_Lincoln  ...  data/set3/a4\n",
              "26  Abraham_Lincoln  ...  data/set3/a4\n",
              "27  Abraham_Lincoln  ...  data/set3/a4\n",
              "28  Abraham_Lincoln  ...  data/set3/a4\n",
              "29  Abraham_Lincoln  ...  data/set3/a4\n",
              "\n",
              "[30 rows x 6 columns]"
            ]
          },
          "metadata": {
            "tags": []
          },
          "execution_count": 7
        }
      ]
    },
    {
      "cell_type": "code",
      "metadata": {
        "colab": {
          "base_uri": "https://localhost:8080/"
        },
        "id": "aQvRAiimj8WH",
        "outputId": "f9ed5f2b-0653-4b03-d1e4-3c2078e5b08a"
      },
      "source": [
        "df_data = data1[['Question', 'Answer']]\r\n",
        "df_data = df_data.drop_duplicates(subset = ['Question'])\r\n",
        "ques = [str(sent) for sent in df_data['Question']]\r\n",
        "ans = [str(sent) for sent in df_data['Answer']]\r\n",
        "len(ques), len(ans)"
      ],
      "execution_count": 8,
      "outputs": [
        {
          "output_type": "execute_result",
          "data": {
            "text/plain": [
              "(2457, 2457)"
            ]
          },
          "metadata": {
            "tags": []
          },
          "execution_count": 8
        }
      ]
    },
    {
      "cell_type": "code",
      "metadata": {
        "colab": {
          "base_uri": "https://localhost:8080/",
          "height": 197
        },
        "id": "s1MFQnj5ySKW",
        "outputId": "4f8ef60e-0136-4178-8496-f913c9f98c88"
      },
      "source": [
        "df_data['Question'] = ques\r\n",
        "df_data['Answer'] = ans\r\n",
        "df_data.reset_index(inplace=True)\r\n",
        "df_data.head()\r\n"
      ],
      "execution_count": 9,
      "outputs": [
        {
          "output_type": "execute_result",
          "data": {
            "text/html": [
              "<div>\n",
              "<style scoped>\n",
              "    .dataframe tbody tr th:only-of-type {\n",
              "        vertical-align: middle;\n",
              "    }\n",
              "\n",
              "    .dataframe tbody tr th {\n",
              "        vertical-align: top;\n",
              "    }\n",
              "\n",
              "    .dataframe thead th {\n",
              "        text-align: right;\n",
              "    }\n",
              "</style>\n",
              "<table border=\"1\" class=\"dataframe\">\n",
              "  <thead>\n",
              "    <tr style=\"text-align: right;\">\n",
              "      <th></th>\n",
              "      <th>index</th>\n",
              "      <th>Question</th>\n",
              "      <th>Answer</th>\n",
              "    </tr>\n",
              "  </thead>\n",
              "  <tbody>\n",
              "    <tr>\n",
              "      <th>0</th>\n",
              "      <td>0</td>\n",
              "      <td>Was Abraham Lincoln the sixteenth President of...</td>\n",
              "      <td>yes</td>\n",
              "    </tr>\n",
              "    <tr>\n",
              "      <th>1</th>\n",
              "      <td>2</td>\n",
              "      <td>Did Lincoln sign the National Banking Act of 1...</td>\n",
              "      <td>yes</td>\n",
              "    </tr>\n",
              "    <tr>\n",
              "      <th>2</th>\n",
              "      <td>4</td>\n",
              "      <td>Did his mother die of pneumonia?</td>\n",
              "      <td>no</td>\n",
              "    </tr>\n",
              "    <tr>\n",
              "      <th>3</th>\n",
              "      <td>6</td>\n",
              "      <td>How many long was Lincoln's formal education?</td>\n",
              "      <td>18 months</td>\n",
              "    </tr>\n",
              "    <tr>\n",
              "      <th>4</th>\n",
              "      <td>8</td>\n",
              "      <td>When did Lincoln begin his political career?</td>\n",
              "      <td>1832</td>\n",
              "    </tr>\n",
              "  </tbody>\n",
              "</table>\n",
              "</div>"
            ],
            "text/plain": [
              "   index                                           Question     Answer\n",
              "0      0  Was Abraham Lincoln the sixteenth President of...        yes\n",
              "1      2  Did Lincoln sign the National Banking Act of 1...        yes\n",
              "2      4                   Did his mother die of pneumonia?         no\n",
              "3      6      How many long was Lincoln's formal education?  18 months\n",
              "4      8       When did Lincoln begin his political career?       1832"
            ]
          },
          "metadata": {
            "tags": []
          },
          "execution_count": 9
        }
      ]
    },
    {
      "cell_type": "code",
      "metadata": {
        "id": "uZmDcD4f3fyE"
      },
      "source": [
        "import torch\r\n",
        "import torch.nn as nn\r\n",
        "import torch.optim as optim\r\n",
        "import torch.nn.functional as F\r\n",
        "from torchtext import data\r\n",
        "\r\n",
        "\r\n",
        "from torchtext.data import Field, BucketIterator\r\n",
        "\r\n",
        "import spacy\r\n",
        "import numpy as np\r\n",
        "\r\n",
        "import random\r\n",
        "import math\r\n",
        "import time"
      ],
      "execution_count": 10,
      "outputs": []
    },
    {
      "cell_type": "code",
      "metadata": {
        "id": "Qzn4ltY53iwz"
      },
      "source": [
        "SEED = 1234\r\n",
        "\r\n",
        "random.seed(SEED)\r\n",
        "np.random.seed(SEED)\r\n",
        "torch.manual_seed(SEED)\r\n",
        "torch.cuda.manual_seed(SEED)\r\n",
        "torch.backends.cudnn.deterministic = True"
      ],
      "execution_count": 11,
      "outputs": []
    },
    {
      "cell_type": "code",
      "metadata": {
        "id": "BOz8zf4A4AG1"
      },
      "source": [
        "SRC = Field(tokenize = 'spacy', \r\n",
        "            init_token = '<sos>', \r\n",
        "            eos_token = '<eos>', \r\n",
        "            lower = True)\r\n",
        "TRG = Field(tokenize = 'spacy', \r\n",
        "            init_token = '<sos>', \r\n",
        "            eos_token = '<eos>', \r\n",
        "            lower = True)"
      ],
      "execution_count": 12,
      "outputs": []
    },
    {
      "cell_type": "code",
      "metadata": {
        "id": "1rYg_Rjt4MFU"
      },
      "source": [
        "fields = [('Question', SRC),('Answer',TRG)]"
      ],
      "execution_count": 13,
      "outputs": []
    },
    {
      "cell_type": "code",
      "metadata": {
        "id": "c0FBnmNe5J1B"
      },
      "source": [
        "example = [data.Example.fromlist([df_data.Question[i],df_data.Answer[i]], fields) for i in range(df_data.shape[0])] "
      ],
      "execution_count": 14,
      "outputs": []
    },
    {
      "cell_type": "code",
      "metadata": {
        "id": "cL2aDgI-5zwS"
      },
      "source": [
        "QADataset = data.Dataset(example, fields)"
      ],
      "execution_count": 15,
      "outputs": []
    },
    {
      "cell_type": "code",
      "metadata": {
        "colab": {
          "base_uri": "https://localhost:8080/"
        },
        "id": "TeH4EjG2y35j",
        "outputId": "898cce8e-59d8-4654-ac4b-df4cc144a47d"
      },
      "source": [
        "vars(QADataset.examples[0])"
      ],
      "execution_count": 16,
      "outputs": [
        {
          "output_type": "execute_result",
          "data": {
            "text/plain": [
              "{'Answer': ['yes'],\n",
              " 'Question': ['was',\n",
              "  'abraham',\n",
              "  'lincoln',\n",
              "  'the',\n",
              "  'sixteenth',\n",
              "  'president',\n",
              "  'of',\n",
              "  'the',\n",
              "  'united',\n",
              "  'states',\n",
              "  '?']}"
            ]
          },
          "metadata": {
            "tags": []
          },
          "execution_count": 16
        }
      ]
    },
    {
      "cell_type": "code",
      "metadata": {
        "id": "hqFCFW9D5avv"
      },
      "source": [
        "(train, valid) = QADataset.split(split_ratio=[0.90, 0.10], random_state=random.seed(SEED))"
      ],
      "execution_count": 17,
      "outputs": []
    },
    {
      "cell_type": "code",
      "metadata": {
        "colab": {
          "base_uri": "https://localhost:8080/"
        },
        "id": "GOCKTiGfzS6Z",
        "outputId": "a56138e0-513d-4dc6-88b4-c6d8f4ad7296"
      },
      "source": [
        "(len(train), len(valid))"
      ],
      "execution_count": 18,
      "outputs": [
        {
          "output_type": "execute_result",
          "data": {
            "text/plain": [
              "(2211, 246)"
            ]
          },
          "metadata": {
            "tags": []
          },
          "execution_count": 18
        }
      ]
    },
    {
      "cell_type": "code",
      "metadata": {
        "id": "RTVfMYMlzaXC"
      },
      "source": [
        "SRC.build_vocab(train, min_freq = 2)\r\n",
        "TRG.build_vocab(train, min_freq = 2)"
      ],
      "execution_count": 19,
      "outputs": []
    },
    {
      "cell_type": "code",
      "metadata": {
        "colab": {
          "base_uri": "https://localhost:8080/"
        },
        "id": "6Wq11hNGztcJ",
        "outputId": "1f4a0bd6-619c-4c39-c9cc-bbe4ef02b1b3"
      },
      "source": [
        "print(\"size of SRC vocab: \", len(SRC.vocab))\r\n",
        "print('size of TRG vocab: ', len(TRG.vocab))"
      ],
      "execution_count": 20,
      "outputs": [
        {
          "output_type": "stream",
          "text": [
            "size of SRC vocab:  1791\n",
            "size of TRG vocab:  890\n"
          ],
          "name": "stdout"
        }
      ]
    },
    {
      "cell_type": "code",
      "metadata": {
        "id": "tkYNzmUK0KfJ"
      },
      "source": [
        "device = torch.device('cuda' if torch.cuda.is_available() else 'cpu')"
      ],
      "execution_count": 21,
      "outputs": []
    },
    {
      "cell_type": "code",
      "metadata": {
        "id": "jVWP2yq_0PtL"
      },
      "source": [
        "BATCH_SIZE = 128\r\n",
        "train_iterator, valid_iterator = BucketIterator.splits((train, valid),sort = False, batch_size = BATCH_SIZE, device = device)"
      ],
      "execution_count": 22,
      "outputs": []
    },
    {
      "cell_type": "code",
      "metadata": {
        "id": "c2MiySa80Yz0"
      },
      "source": [
        "# Encoder\r\n",
        "class Encoder(nn.Module):\r\n",
        "  def __init__(self, input_dim, emb_dim, hid_dim, dropout):\r\n",
        "    super().__init__()\r\n",
        "    self.hid_dim = hid_dim\r\n",
        "    self.embedding = nn.Embedding(input_dim, emb_dim)\r\n",
        "    self.rnn = nn.GRU(emb_dim, hid_dim)\r\n",
        "    self.dropout = nn.Dropout(dropout)\r\n",
        "  def forward(self, src):\r\n",
        "    embedded = self.dropout(self.embedding(src))\r\n",
        "\r\n",
        "    outputs, hidden = self.rnn(embedded)\r\n",
        "\r\n",
        "       \r\n",
        "    #outputs = [src len, batch size, hid dim * n directions]\r\n",
        "    #hidden = [n layers * n directions, batch size, hid dim]\r\n",
        "    return hidden"
      ],
      "execution_count": 23,
      "outputs": []
    },
    {
      "cell_type": "code",
      "metadata": {
        "id": "1tyb2IgB0e7w"
      },
      "source": [
        "# Decoder \r\n",
        "class Decoder(nn.Module):\r\n",
        "  def __init__(self, output_dim, emb_dim, hid_dim, dropout):\r\n",
        "    super().__init__()\r\n",
        "    self.hid_dim = hid_dim,\r\n",
        "    self.output_dim = output_dim\r\n",
        "    self.embedding = nn.Embedding(output_dim, emb_dim)\r\n",
        "    self.rnn = nn.GRU(emb_dim + hid_dim, hid_dim)\r\n",
        "    self.fc = nn.Linear(emb_dim + hid_dim * 2, output_dim)\r\n",
        "    self.dropout = nn.Dropout(dropout)\r\n",
        "\r\n",
        "  def forward(self, input, hidden, context):\r\n",
        "    #input = [batch size]\r\n",
        "    #hidden = [n layers * n directions, batch size, hid dim]\r\n",
        "    #context = [n layers * n directions, batch size, hid dim]\r\n",
        "        \r\n",
        "    #n layers and n directions in the decoder will both always be 1, therefore:\r\n",
        "    #hidden = [1, batch size, hid dim]\r\n",
        "    #context = [1, batch size, hid dim]\r\n",
        "    input = input.unsqueeze(0)\r\n",
        "    embedded = self.dropout(self.embedding(input))\r\n",
        "\r\n",
        "    emb_con = torch.cat((embedded, context), dim = 2)\r\n",
        "    output, hidden = self.rnn(emb_con, hidden)\r\n",
        "        #output = [seq len, batch size, hid dim * n directions]\r\n",
        "        #hidden = [n layers * n directions, batch size, hid dim]\r\n",
        "        \r\n",
        "        #seq len, n layers and n directions will always be 1 in the decoder, therefore:\r\n",
        "        #output = [1, batch size, hid dim]\r\n",
        "        #hidden = [1, batch size, hid dim]\r\n",
        "    output = torch.cat((embedded.squeeze(0), hidden.squeeze(0), context.squeeze(0)), dim = 1)\r\n",
        "    prediction = self.fc(output)\r\n",
        "    \r\n",
        "    return prediction, hidden\r\n",
        "    \r\n"
      ],
      "execution_count": 24,
      "outputs": []
    },
    {
      "cell_type": "code",
      "metadata": {
        "id": "BSAqEw9D0kY3"
      },
      "source": [
        "class Seq2Seq(nn.Module):\r\n",
        "  def __init__(self, encoder, decoder, device):\r\n",
        "    super().__init__()\r\n",
        "    self.encoder = encoder\r\n",
        "    self.decoder = decoder\r\n",
        "    self.device = device\r\n",
        "\r\n",
        "    #assert encoder.hid_dim == decoder.hid_dim, \\\r\n",
        "    #  \"Hidden dimensions of encoder and decoder must be equal\"\r\n",
        "  def forward(self, src, trg, teacher_forcing_ratio = 0.5):\r\n",
        "\r\n",
        "    #src = [src len, batch size]\r\n",
        "    #trg = [trg len, batch size]\r\n",
        "    #teacher_forcing_ratio is probability to use teacher forcing\r\n",
        "    #e.g. if teacher_forcing_ratio is 0.75 we use ground-truth inputs 75% of the time\r\n",
        "\r\n",
        "    batch_size = src.shape[1]\r\n",
        "    trg_len = trg.shape[0]\r\n",
        "    trg_vocab_size = self.decoder.output_dim\r\n",
        "    outputs = torch.zeros(trg_len, batch_size, trg_vocab_size).to(self.device)\r\n",
        "    context = self.encoder(src)\r\n",
        "    hidden = context\r\n",
        "    input = trg[0, :]\r\n",
        "    for t in range(1, trg_len):\r\n",
        "      output, hidden = self.decoder(input, hidden, context)\r\n",
        "      outputs[t] = output\r\n",
        "      teacher_force = random.random() < teacher_forcing_ratio\r\n",
        "      top1 = output.argmax(1)\r\n",
        "      input = trg[t] if teacher_force else top1\r\n",
        "    \r\n",
        "    return outputs\r\n"
      ],
      "execution_count": 25,
      "outputs": []
    },
    {
      "cell_type": "code",
      "metadata": {
        "id": "mrl4R-pR0pPH"
      },
      "source": [
        "INPUT_DIM = len(SRC.vocab)\r\n",
        "OUTPUT_DIM = len(TRG.vocab)\r\n",
        "ENC_EMB_DIM = 256\r\n",
        "DEC_EMB_DIM = 256\r\n",
        "HID_DIM = 512\r\n",
        "ENC_DROPOUT = 0.5\r\n",
        "DEC_DROPOUT = 0.5\r\n",
        "\r\n",
        "enc = Encoder(INPUT_DIM, ENC_EMB_DIM, HID_DIM, ENC_DROPOUT)\r\n",
        "dec = Decoder(OUTPUT_DIM, DEC_EMB_DIM, HID_DIM, DEC_DROPOUT)\r\n",
        "\r\n",
        "device = torch.device('cuda' if torch.cuda.is_available() else 'cpu')\r\n",
        "\r\n",
        "model = Seq2Seq(enc, dec, device).to(device)"
      ],
      "execution_count": 26,
      "outputs": []
    },
    {
      "cell_type": "code",
      "metadata": {
        "colab": {
          "base_uri": "https://localhost:8080/"
        },
        "id": "mgRgSQ_d0zfG",
        "outputId": "1b4eb2d6-b387-40a1-e0c0-8f12730a06bb"
      },
      "source": [
        "def init_weights(m):\r\n",
        "  for name, param in m.named_parameters():\r\n",
        "    nn.init.normal_(param.data, mean = 0.0, std = 0.01)\r\n",
        "model.apply(init_weights)"
      ],
      "execution_count": 27,
      "outputs": [
        {
          "output_type": "execute_result",
          "data": {
            "text/plain": [
              "Seq2Seq(\n",
              "  (encoder): Encoder(\n",
              "    (embedding): Embedding(1791, 256)\n",
              "    (rnn): GRU(256, 512)\n",
              "    (dropout): Dropout(p=0.5, inplace=False)\n",
              "  )\n",
              "  (decoder): Decoder(\n",
              "    (embedding): Embedding(890, 256)\n",
              "    (rnn): GRU(768, 512)\n",
              "    (fc): Linear(in_features=1280, out_features=890, bias=True)\n",
              "    (dropout): Dropout(p=0.5, inplace=False)\n",
              "  )\n",
              ")"
            ]
          },
          "metadata": {
            "tags": []
          },
          "execution_count": 27
        }
      ]
    },
    {
      "cell_type": "code",
      "metadata": {
        "colab": {
          "base_uri": "https://localhost:8080/"
        },
        "id": "a14R2u5003bd",
        "outputId": "35dcda36-027a-4849-865f-5f9684830392"
      },
      "source": [
        "def count_parameters(model):\r\n",
        "  return sum(p.numel() for p in model.parameters() if p.requires_grad)\r\n",
        "\r\n",
        "\r\n",
        "print(f'The model has {count_parameters(model):,} trainable parameters')"
      ],
      "execution_count": 28,
      "outputs": [
        {
          "output_type": "stream",
          "text": [
            "The model has 4,978,298 trainable parameters\n"
          ],
          "name": "stdout"
        }
      ]
    },
    {
      "cell_type": "code",
      "metadata": {
        "id": "aCoHmDH-048J"
      },
      "source": [
        "# optimizer\r\n",
        "optimizer = optim.Adam(model.parameters())"
      ],
      "execution_count": 29,
      "outputs": []
    },
    {
      "cell_type": "code",
      "metadata": {
        "id": "GGksXq9v0_Es"
      },
      "source": [
        "TRG_PAD_IDX = TRG.vocab.stoi[TRG.pad_token]\r\n",
        "criterion = nn.CrossEntropyLoss(ignore_index = TRG_PAD_IDX)"
      ],
      "execution_count": 30,
      "outputs": []
    },
    {
      "cell_type": "code",
      "metadata": {
        "id": "nKC80HGh1EoS"
      },
      "source": [
        "def train(model, iterator, optimizer, criterion, clip):\r\n",
        "  model.train()\r\n",
        "  epoch_loss = 0\r\n",
        "  for i, batch in enumerate(iterator):\r\n",
        "    src = batch.Question\r\n",
        "    trg = batch.Answer\r\n",
        "    optimizer.zero_grad()\r\n",
        "    output = model(src, trg)\r\n",
        "    output_dim = output.shape[-1]\r\n",
        "    output = output[1:].view(-1, output_dim)\r\n",
        "    trg = trg[1:].view(-1)\r\n",
        "    loss = criterion(output, trg)\r\n",
        "    loss.backward()\r\n",
        "    torch.nn.utils.clip_grad_norm_(model.parameters(), clip)\r\n",
        "    optimizer.step()\r\n",
        "    epoch_loss += loss.item()\r\n",
        "  return epoch_loss / len(iterator)"
      ],
      "execution_count": 31,
      "outputs": []
    },
    {
      "cell_type": "code",
      "metadata": {
        "id": "GLczrwYz1OZD"
      },
      "source": [
        "def evaluate(model, iterator, criterion):\r\n",
        "    model.eval()\r\n",
        "    \r\n",
        "    epoch_loss = 0\r\n",
        "    \r\n",
        "    with torch.no_grad():\r\n",
        "    \r\n",
        "        for i, batch in enumerate(iterator):\r\n",
        "\r\n",
        "            src = batch.Question\r\n",
        "            trg = batch.Answer\r\n",
        "\r\n",
        "            output = model(src, trg, 0) #turn off teacher forcing\r\n",
        "\r\n",
        "            #trg = [trg len, batch size]\r\n",
        "            #output = [trg len, batch size, output dim]\r\n",
        "\r\n",
        "            output_dim = output.shape[-1]\r\n",
        "            \r\n",
        "            output = output[1:].view(-1, output_dim)\r\n",
        "            trg = trg[1:].view(-1)\r\n",
        "\r\n",
        "            #trg = [(trg len - 1) * batch size]\r\n",
        "            #output = [(trg len - 1) * batch size, output dim]\r\n",
        "\r\n",
        "            loss = criterion(output, trg)\r\n",
        "\r\n",
        "            epoch_loss += loss.item()\r\n",
        "        \r\n",
        "    return epoch_loss / len(iterator)"
      ],
      "execution_count": 32,
      "outputs": []
    },
    {
      "cell_type": "code",
      "metadata": {
        "id": "iDEoHalY1VIe"
      },
      "source": [
        "def epoch_time(start_time, end_time):\r\n",
        "    elapsed_time = end_time - start_time\r\n",
        "    elapsed_mins = int(elapsed_time / 60)\r\n",
        "    elapsed_secs = int(elapsed_time - (elapsed_mins * 60))\r\n",
        "    return elapsed_mins, elapsed_secs"
      ],
      "execution_count": 33,
      "outputs": []
    },
    {
      "cell_type": "code",
      "metadata": {
        "colab": {
          "base_uri": "https://localhost:8080/"
        },
        "id": "mcCDmhh_1Yjf",
        "outputId": "d08e3056-9d18-4f82-b5d3-aa1904864562"
      },
      "source": [
        "N_EPOCHS = 10\r\n",
        "CLIP = 1\r\n",
        "\r\n",
        "best_valid_loss = float('inf')\r\n",
        "\r\n",
        "for epoch in range(N_EPOCHS):\r\n",
        "    \r\n",
        "    start_time = time.time()\r\n",
        "    \r\n",
        "    train_loss = train(model, train_iterator, optimizer, criterion, CLIP)\r\n",
        "    valid_loss = evaluate(model, valid_iterator, criterion)\r\n",
        "    \r\n",
        "    end_time = time.time()\r\n",
        "    \r\n",
        "    epoch_mins, epoch_secs = epoch_time(start_time, end_time)\r\n",
        "    \r\n",
        "    if valid_loss < best_valid_loss:\r\n",
        "        best_valid_loss = valid_loss\r\n",
        "        torch.save(model.state_dict(), 'tut2-model.pt')\r\n",
        "    \r\n",
        "    print(f'Epoch: {epoch+1:02} | Time: {epoch_mins}m {epoch_secs}s')\r\n",
        "    print(f'\\tTrain Loss: {train_loss:.3f} | Train PPL: {math.exp(train_loss):7.3f}')\r\n",
        "    print(f'\\t Val. Loss: {valid_loss:.3f} |  Val. PPL: {math.exp(valid_loss):7.3f}')"
      ],
      "execution_count": 34,
      "outputs": [
        {
          "output_type": "stream",
          "text": [
            "Epoch: 01 | Time: 0m 2s\n",
            "\tTrain Loss: 5.584 | Train PPL: 266.145\n",
            "\t Val. Loss: 3.626 |  Val. PPL:  37.575\n",
            "Epoch: 02 | Time: 0m 1s\n",
            "\tTrain Loss: 4.102 | Train PPL:  60.466\n",
            "\t Val. Loss: 3.356 |  Val. PPL:  28.686\n",
            "Epoch: 03 | Time: 0m 1s\n",
            "\tTrain Loss: 3.937 | Train PPL:  51.281\n",
            "\t Val. Loss: 3.327 |  Val. PPL:  27.862\n",
            "Epoch: 04 | Time: 0m 1s\n",
            "\tTrain Loss: 3.877 | Train PPL:  48.296\n",
            "\t Val. Loss: 3.359 |  Val. PPL:  28.760\n",
            "Epoch: 05 | Time: 0m 1s\n",
            "\tTrain Loss: 3.785 | Train PPL:  44.019\n",
            "\t Val. Loss: 3.365 |  Val. PPL:  28.920\n",
            "Epoch: 06 | Time: 0m 1s\n",
            "\tTrain Loss: 3.765 | Train PPL:  43.163\n",
            "\t Val. Loss: 3.321 |  Val. PPL:  27.679\n",
            "Epoch: 07 | Time: 0m 1s\n",
            "\tTrain Loss: 3.683 | Train PPL:  39.775\n",
            "\t Val. Loss: 3.327 |  Val. PPL:  27.854\n",
            "Epoch: 08 | Time: 0m 1s\n",
            "\tTrain Loss: 3.655 | Train PPL:  38.674\n",
            "\t Val. Loss: 3.369 |  Val. PPL:  29.042\n",
            "Epoch: 09 | Time: 0m 1s\n",
            "\tTrain Loss: 3.634 | Train PPL:  37.862\n",
            "\t Val. Loss: 3.337 |  Val. PPL:  28.127\n",
            "Epoch: 10 | Time: 0m 1s\n",
            "\tTrain Loss: 3.603 | Train PPL:  36.713\n",
            "\t Val. Loss: 3.308 |  Val. PPL:  27.344\n"
          ],
          "name": "stdout"
        }
      ]
    }
  ]
}